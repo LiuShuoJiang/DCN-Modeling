{
 "cells": [
  {
   "cell_type": "markdown",
   "id": "6b1567bd9545001e",
   "metadata": {
    "collapsed": false
   },
   "source": [
    "# Data Center Network Simulation: Simulation with Mininet"
   ]
  },
  {
   "cell_type": "markdown",
   "id": "e5ab7165fdfda476",
   "metadata": {
    "collapsed": false
   },
   "source": [
    "Author: Shuojiang Liu"
   ]
  },
  {
   "cell_type": "markdown",
   "id": "ebcb080a715394c0",
   "metadata": {
    "collapsed": false
   },
   "source": [
    "## Import Packages"
   ]
  },
  {
   "cell_type": "code",
   "execution_count": 10,
   "id": "3eb9d32122357620",
   "metadata": {
    "ExecuteTime": {
     "end_time": "2024-03-26T15:38:25.273735Z",
     "start_time": "2024-03-26T15:38:23.337978Z"
    },
    "collapsed": false
   },
   "outputs": [],
   "source": [
    "import networkx as nx\n",
    "import fnss\n",
    "\n",
    "from mininet.topo import Topo\n",
    "from mininet.net import Mininet\n",
    "from mininet.link import TCLink\n",
    "from mininet.util import dumpNodeConnections\n",
    "from mininet.log import setLogLevel\n",
    "from mininet.node import OVSController"
   ]
  },
  {
   "cell_type": "markdown",
   "id": "48743155c4df071d",
   "metadata": {
    "collapsed": false
   },
   "source": [
    "## Parse the topology"
   ]
  },
  {
   "cell_type": "code",
   "execution_count": 17,
   "id": "3ded496323ea53b4",
   "metadata": {
    "collapsed": false
   },
   "outputs": [],
   "source": [
    "# topology_fat_tree = fnss.read_topology('fat_tree_topology.xml')\n",
    "topology_fat_tree = fnss.two_tier_topology(n_core=1, n_edge=2, n_hosts=4)"
   ]
  },
  {
   "cell_type": "code",
   "execution_count": 18,
   "id": "57ea6479",
   "metadata": {},
   "outputs": [
    {
     "data": {
      "text/plain": [
       "{'host', 'switch'}"
      ]
     },
     "execution_count": 18,
     "metadata": {},
     "output_type": "execute_result"
    }
   ],
   "source": [
    "node_types = nx.get_node_attributes(topology_fat_tree, 'type')\n",
    "set_node_types = set(node_types.values())\n",
    "set_node_types"
   ]
  },
  {
   "cell_type": "code",
   "execution_count": 19,
   "id": "51867d46",
   "metadata": {},
   "outputs": [
    {
     "data": {
      "text/plain": [
       "(8, 3)"
      ]
     },
     "execution_count": 19,
     "metadata": {},
     "output_type": "execute_result"
    }
   ],
   "source": [
    "hosts = [nodes for nodes in node_types if node_types[nodes] == 'host']\n",
    "switches = [nodes for nodes in node_types if node_types[nodes] == 'switch']\n",
    "len(hosts), len(switches)"
   ]
  },
  {
   "cell_type": "markdown",
   "id": "18d0a10d31225e4e",
   "metadata": {
    "collapsed": false
   },
   "source": [
    "## Simulation with Mininet"
   ]
  },
  {
   "cell_type": "code",
   "execution_count": 20,
   "id": "e509961b44b0209e",
   "metadata": {
    "collapsed": false
   },
   "outputs": [],
   "source": [
    "mn_topo_fat_tree = fnss.to_mininet(topology_fat_tree, switches=switches, hosts=hosts, relabel_nodes=True)"
   ]
  },
  {
   "cell_type": "code",
   "execution_count": 21,
   "id": "91ab54663987932b",
   "metadata": {
    "collapsed": false
   },
   "outputs": [
    {
     "name": "stderr",
     "output_type": "stream",
     "text": [
      "*** Creating network\n",
      "*** Adding controller\n",
      "*** Adding hosts:\n",
      "h1 h2 h3 h4 h5 h6 h7 h8 \n",
      "*** Adding switches:\n",
      "s1 s2 s3 \n",
      "*** Adding links:\n",
      "(s1, s2) (s1, s3) (s2, h1) (s2, h2) (s2, h3) (s2, h4) (s3, h5) (s3, h6) (s3, h7) (s3, h8) \n",
      "*** Configuring hosts\n",
      "h1 h2 h3 h4 h5 h6 h7 h8 \n",
      "*** Starting controller\n",
      "c0 \n",
      "*** Starting 3 switches\n",
      "s1 s2 s3 ...\n",
      "h1 h1-eth0:s2-eth2\n",
      "h2 h2-eth0:s2-eth3\n",
      "h3 h3-eth0:s2-eth4\n",
      "h4 h4-eth0:s2-eth5\n",
      "h5 h5-eth0:s3-eth2\n",
      "h6 h6-eth0:s3-eth3\n",
      "h7 h7-eth0:s3-eth4\n",
      "h8 h8-eth0:s3-eth5\n",
      "*** Ping: testing ping reachability\n",
      "h1 -> h2 h3 h4 h5 "
     ]
    },
    {
     "name": "stdout",
     "output_type": "stream",
     "text": [
      "Dumping host connections\n",
      "Testing network connectivity\n"
     ]
    },
    {
     "name": "stderr",
     "output_type": "stream",
     "text": [
      "h6 h7 h8 \n",
      "h2 -> h1 h3 h4 h5 h6 h7 h8 \n",
      "h3 -> h1 h2 h4 h5 h6 h7 h8 \n",
      "h4 -> h1 h2 h3 h5 h6 h7 h8 \n",
      "h5 -> h1 h2 h3 h4 h6 h7 h8 \n",
      "h6 -> h1 h2 h3 h4 h5 h7 h8 \n",
      "h7 -> h1 h2 h3 h4 h5 h6 h8 \n",
      "h8 -> h1 h2 h3 h4 h5 h6 h7 \n",
      "*** Results: 0% dropped (56/56 received)\n",
      "*** Iperf: testing TCP bandwidth between h3 and h4 \n",
      "*** Results: ['12.6 Gbits/sec', '12.6 Gbits/sec']\n",
      "*** Stopping 1 controllers\n",
      "c0 \n",
      "*** Stopping 10 links\n",
      "..........\n",
      "*** Stopping 3 switches\n",
      "s1 s2 s3 \n",
      "*** Stopping 8 hosts\n",
      "h1 h2 h3 h4 h5 h6 h7 h8 \n",
      "*** Done\n"
     ]
    }
   ],
   "source": [
    "setLogLevel('info')\n",
    "net = Mininet(topo=mn_topo_fat_tree, controller=OVSController, link=TCLink)\n",
    "net.start()\n",
    "\n",
    "print(\"Dumping host connections\")\n",
    "dumpNodeConnections(net.hosts)\n",
    "\n",
    "print(\"Testing network connectivity\")\n",
    "net.pingAll()\n",
    "\n",
    "# Test bandwidth between nodes\n",
    "h3, h4 = net.get('h3', 'h4')\n",
    "net.iperf((h3, h4))\n",
    "\n",
    "net.stop()"
   ]
  }
 ],
 "metadata": {
  "kernelspec": {
   "display_name": "Python 3",
   "language": "python",
   "name": "python3"
  },
  "language_info": {
   "codemirror_mode": {
    "name": "ipython",
    "version": 3
   },
   "file_extension": ".py",
   "mimetype": "text/x-python",
   "name": "python",
   "nbconvert_exporter": "python",
   "pygments_lexer": "ipython3",
   "version": "3.8.10"
  }
 },
 "nbformat": 4,
 "nbformat_minor": 5
}
